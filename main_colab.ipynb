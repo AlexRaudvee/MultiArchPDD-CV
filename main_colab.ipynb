{
  "cells": [
    {
      "cell_type": "markdown",
      "metadata": {
        "colab_type": "text",
        "id": "view-in-github"
      },
      "source": [
        "<a href=\"https://colab.research.google.com/github/AlexRaudvee/MultiArchPDD-CV/blob/main/main_colab.ipynb\" target=\"_parent\"><img src=\"https://colab.research.google.com/assets/colab-badge.svg\" alt=\"Open In Colab\"/></a>"
      ]
    },
    {
      "cell_type": "code",
      "execution_count": 2,
      "metadata": {
        "colab": {
          "base_uri": "https://localhost:8080/"
        },
        "id": "7TLPdrWx1evU",
        "outputId": "f3936cac-c245-4826-f6da-70f93c8f49eb"
      },
      "outputs": [
        {
          "name": "stdout",
          "output_type": "stream",
          "text": [
            "Mounted at /content/drive\n"
          ]
        }
      ],
      "source": [
        "import os\n",
        "import shutil\n",
        "import zipfile\n",
        "from pathlib import Path\n",
        "from google.colab import drive\n",
        "\n",
        "def mount_google_drive(mount_point: Path = Path('/content/drive')) -> Path:\n",
        "    \"\"\"Mounts Google Drive and returns the mount point.\"\"\"\n",
        "    drive.mount(str(mount_point))\n",
        "    return mount_point\n",
        "\n",
        "def extract_zip(zip_path: Path, extract_to: Path) -> None:\n",
        "    \"\"\"Extracts a zip file to the given directory.\"\"\"\n",
        "    if not zip_path.is_file():\n",
        "        raise FileNotFoundError(f\"Could not find zip file at {zip_path}\")\n",
        "    with zipfile.ZipFile(zip_path, 'r') as z:\n",
        "        z.extractall(str(extract_to))\n",
        "\n",
        "def move_contents(src_dir: Path, dst_dir: Path) -> None:\n",
        "    \"\"\"\n",
        "    Moves everything from src_dir into dst_dir.\n",
        "    Overwrites any existing files or folders of the same name.\n",
        "    Cleans up the now-empty src_dir at the end.\n",
        "    \"\"\"\n",
        "    if not src_dir.is_dir():\n",
        "        raise FileNotFoundError(f\"{src_dir} does not exist\")\n",
        "    for item in src_dir.iterdir():\n",
        "        target = dst_dir / item.name\n",
        "        if target.exists():\n",
        "            print(f\"Warning: {target} already exists, overwriting\")\n",
        "            if target.is_dir():\n",
        "                shutil.rmtree(target)\n",
        "            else:\n",
        "                target.unlink()\n",
        "        shutil.move(str(item), str(target))\n",
        "    src_dir.rmdir()\n",
        "\n",
        "def setup_directories(*dirs: Path) -> None:\n",
        "    \"\"\"Ensures that each directory in `dirs` exists.\"\"\"\n",
        "    for d in dirs:\n",
        "        d.mkdir(parents=True, exist_ok=True)\n",
        "\n",
        "def zip_folder(folder_path: Path, output_path: Path) -> None:\n",
        "    \"\"\"\n",
        "    Recursively zip the contents of folder_path into a .zip file at output_path.\n",
        "    \"\"\"\n",
        "    with zipfile.ZipFile(output_path, 'w', compression=zipfile.ZIP_DEFLATED) as zipf:\n",
        "        for root, _, files in os.walk(folder_path):\n",
        "            for fname in files:\n",
        "                fpath = Path(root) / fname\n",
        "                arcname = fpath.relative_to(folder_path)\n",
        "                zipf.write(str(fpath), arcname)"
      ]
    },
    {
      "cell_type": "code",
      "execution_count": null,
      "metadata": {},
      "outputs": [],
      "source": [
        "# ——— Constants ———\n",
        "DRIVE_MOUNT_POINT = Path('/content/drive')\n",
        "ZIP_PATH            = DRIVE_MOUNT_POINT / 'MyDrive/.colab.zip'\n",
        "EXTRACT_TO          = Path('/content')\n",
        "SRC_DIR             = EXTRACT_TO / '.colab'\n",
        "DST_DIR             = EXTRACT_TO\n",
        "DISTILLED_DIR       = EXTRACT_TO / 'data' / 'Distilled'\n",
        "MODEL_DIR           = EXTRACT_TO / 'data' / 'checkpoints'\n",
        "ASSETS_DIR          = EXTRACT_TO / 'assets' / 'viz_synthetic'\n",
        "\n",
        "# ——— SetUp ———\n",
        "mount_google_drive(DRIVE_MOUNT_POINT)\n",
        "extract_zip(ZIP_PATH, EXTRACT_TO)\n",
        "move_contents(SRC_DIR, DST_DIR)\n",
        "setup_directories(DISTILLED_DIR)\n",
        "setup_directories(ASSETS_DIR)\n",
        "setup_directories(MODEL_DIR)"
      ]
    },
    {
      "cell_type": "code",
      "execution_count": null,
      "metadata": {},
      "outputs": [],
      "source": [
        "!pip install matplotlib"
      ]
    },
    {
      "cell_type": "code",
      "execution_count": 2,
      "metadata": {},
      "outputs": [
        {
          "name": "stdout",
          "output_type": "stream",
          "text": [
            "[Dataloader]:\n",
            "     - Loading...\n",
            "     - Done.\n",
            "     - Done.                                                                    \n",
            "[Distillator]:\n",
            "     - Saving...\n",
            "[Distillator]:\n",
            "     - model saved to data/checkpoints/mm-match_cifar10_convnet.pth\n",
            "[Distillator]:\n",
            "     - distilled dataset & history saved to data/Distilled/mm-match_cifar10_convnet.pt\n",
            "     - Done.\n",
            "     - Plotted & saved stage 1 → assets/viz_synthetic/synthetic_stage_01.png\n"
          ]
        }
      ],
      "source": [
        "!python -m scripts.run_distill \\\n",
        "  --pdd-core mm-match \\\n",
        "  --dataset cifar10 \\\n",
        "  --model convnet \\\n",
        "  --batch-size 128 \\\n",
        "  --synthetic-size 10 \\\n",
        "  --P 1 \\\n",
        "  --K 1 \\\n",
        "  --T 1 \\\n",
        "  --lr-model 1e-4 \\\n",
        "  --lr-syn-data 1e-3 \\\n",
        "  --syn-optimizer adam \\\n",
        "  --inner-optimizer momentum \\\n",
        "  --out-dir data/Distilled \\\n",
        "  --ckpt-dir data/checkpoints"
      ]
    },
    {
      "cell_type": "code",
      "execution_count": 3,
      "metadata": {
        "id": "7wkZ0NQq1oWg"
      },
      "outputs": [],
      "source": [
        "zip_folder(\"/content/assets\", \"/content/assets_ConvNet.zip\")\n",
        "zip_folder(\"/content/data/Distilled\", \"/content/Distilled.zip\")\n",
        "zip_folder(\"/content/data/checkpoints\", \"/content/checkpoints.zip\")"
      ]
    },
    {
      "cell_type": "code",
      "execution_count": null,
      "metadata": {},
      "outputs": [],
      "source": []
    }
  ],
  "metadata": {
    "accelerator": "GPU",
    "colab": {
      "gpuType": "L4",
      "include_colab_link": true,
      "machine_shape": "hm",
      "provenance": []
    },
    "kernelspec": {
      "display_name": "Python 3",
      "name": "python3"
    },
    "language_info": {
      "codemirror_mode": {
        "name": "ipython",
        "version": 3
      },
      "file_extension": ".py",
      "mimetype": "text/x-python",
      "name": "python",
      "nbconvert_exporter": "python",
      "pygments_lexer": "ipython3",
      "version": "3.12.10"
    }
  },
  "nbformat": 4,
  "nbformat_minor": 0
}
